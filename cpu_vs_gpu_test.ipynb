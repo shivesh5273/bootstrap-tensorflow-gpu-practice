{
 "cells": [
  {
   "cell_type": "code",
   "execution_count": null,
   "metadata": {},
   "outputs": [],
   "source": [
    "import tensorflow as tf\n",
    "import timeit"
   ]
  },
  {
   "cell_type": "code",
   "execution_count": null,
   "metadata": {},
   "outputs": [],
   "source": [
    "dir(timeit)"
   ]
  },
  {
   "cell_type": "markdown",
   "metadata": {},
   "source": [
    "## check physical GPU availability"
   ]
  },
  {
   "cell_type": "code",
   "execution_count": null,
   "metadata": {},
   "outputs": [],
   "source": [
    "# returns whether TensorFlow was built with CUDA (GPU) support\n",
    "tf.test.is_built_with_cuda()"
   ]
  },
  {
   "cell_type": "code",
   "execution_count": null,
   "metadata": {},
   "outputs": [],
   "source": [
    "# returns a list of available physical GPUs\n",
    "tf.config.list_physical_devices(\"GPU\")"
   ]
  },
  {
   "cell_type": "code",
   "execution_count": null,
   "metadata": {},
   "outputs": [],
   "source": [
    "# returns the names of physical GPUs\n",
    "tf.test.gpu_device_name()"
   ]
  },
  {
   "cell_type": "markdown",
   "metadata": {},
   "source": [
    "## a test case"
   ]
  },
  {
   "cell_type": "code",
   "execution_count": null,
   "metadata": {},
   "outputs": [],
   "source": [
    "# initialize random matrices on CPU and GPU\n",
    "with tf.device(\"/CPU:0\"):\n",
    "    cpu_m1 = tf.random.normal(shape=[10000, 1000])\n",
    "    cpu_m2 = tf.random.normal(shape=[1000, 5000])\n",
    "    print(cpu_m1.device, \"\\n\", cpu_m2.device, \"\\n\"*2)\n",
    "\n",
    "with tf.device(\"/GPU:0\"):\n",
    "    gpu_m1 = tf.random.normal([10000, 1000])\n",
    "    gpu_m2 = tf.random.normal([1000, 5000])\n",
    "    print(gpu_m1.device, \"\\n\", gpu_m2.device)"
   ]
  },
  {
   "cell_type": "code",
   "execution_count": null,
   "metadata": {},
   "outputs": [],
   "source": [
    "# perform matrix multiplication test\n",
    "def cpu_test():\n",
    "    with tf.device(\"/CPU:0\"):\n",
    "        res = tf.matmul(cpu_m1, cpu_m2)\n",
    "    return res\n",
    "\n",
    "def gpu_test():\n",
    "    with tf.device(\"/GPU:0\"):\n",
    "        res = tf.matmul(gpu_m1, gpu_m2)\n",
    "    return res\n",
    "\n",
    "if __name__ == \"__main__\":\n",
    "    cpu_time = timeit.timeit(cpu_test, number=50)\n",
    "    gpu_time = timeit.timeit(gpu_test, number=50)\n",
    "    print(f\"CPU run time: {cpu_time}\\nGPU run time: {gpu_time}\")"
   ]
  },
  {
   "cell_type": "markdown",
   "metadata": {},
   "source": [
    "This time, GPU is some 12 times faster than CPU. The number varies depending on operations performed. Sometimes gain is only 5 times, sometimes the gain is greater than 12."
   ]
  },
  {
   "cell_type": "code",
   "execution_count": null,
   "metadata": {},
   "outputs": [],
   "source": []
  }
 ],
 "metadata": {
  "kernelspec": {
   "display_name": "Python 3 (ipykernel)",
   "language": "python",
   "name": "python3"
  },
  "language_info": {
   "codemirror_mode": {
    "name": "ipython",
    "version": 3
   },
   "file_extension": ".py",
   "mimetype": "text/x-python",
   "name": "python",
   "nbconvert_exporter": "python",
   "pygments_lexer": "ipython3",
   "version": "3.10.4"
  }
 },
 "nbformat": 4,
 "nbformat_minor": 4
}
